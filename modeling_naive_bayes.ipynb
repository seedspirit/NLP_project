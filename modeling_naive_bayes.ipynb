{
  "nbformat": 4,
  "nbformat_minor": 0,
  "metadata": {
    "colab": {
      "name": "modeling_naive bayes.ipynb",
      "provenance": [],
      "collapsed_sections": []
    },
    "kernelspec": {
      "name": "python3",
      "display_name": "Python 3"
    },
    "language_info": {
      "name": "python"
    },
    "accelerator": "GPU",
    "gpuClass": "standard"
  },
  "cells": [
    {
      "cell_type": "code",
      "execution_count": 1,
      "metadata": {
        "id": "2kUIH_jfb7G_"
      },
      "outputs": [],
      "source": [
        "import pandas as pd\n",
        "import numpy as np\n",
        "import matplotlib.pyplot as plt\n",
        "import seaborn as sns\n",
        "from collections import Counter"
      ]
    },
    {
      "cell_type": "markdown",
      "source": [
        "### Data Preprocessing"
      ],
      "metadata": {
        "id": "nh4Qnc3vcI7A"
      }
    },
    {
      "cell_type": "markdown",
      "source": [
        "#### Data load"
      ],
      "metadata": {
        "id": "Mj0ET-rgeUXE"
      }
    },
    {
      "cell_type": "code",
      "source": [
        "from google.colab import drive\n",
        "drive.mount('/content/drive')"
      ],
      "metadata": {
        "colab": {
          "base_uri": "https://localhost:8080/"
        },
        "id": "eJfr7ZsmcXBA",
        "outputId": "98572d76-629a-4e88-e8a8-104654c41afb"
      },
      "execution_count": 2,
      "outputs": [
        {
          "output_type": "stream",
          "name": "stdout",
          "text": [
            "Drive already mounted at /content/drive; to attempt to forcibly remount, call drive.mount(\"/content/drive\", force_remount=True).\n"
          ]
        }
      ]
    },
    {
      "cell_type": "code",
      "source": [
        "file_path = '/content/drive/MyDrive/boaz/base_project/datasets/'"
      ],
      "metadata": {
        "id": "v_NxBJ4DcYk9"
      },
      "execution_count": 3,
      "outputs": []
    },
    {
      "cell_type": "code",
      "source": [
        "train_data = pd.read_csv(file_path + 'i1e0_train.csv', encoding='UTF-8')\n",
        "val_data = pd.read_csv(file_path + 'i1e0_validation.csv', encoding='UTF-8')\n",
        "test_data = pd.read_csv(file_path + 'i1e0_test.csv', encoding='UTF-8')"
      ],
      "metadata": {
        "id": "Vip9Pj54eXSs"
      },
      "execution_count": 4,
      "outputs": []
    },
    {
      "cell_type": "code",
      "source": [
        "train_data = train_data.groupby('type').sample(frac=0.05)\n",
        "train_data.reset_index(drop = True, inplace = True)\n",
        "\n",
        "test_data = test_data.groupby('type').sample(frac=0.05)\n",
        "test_data.reset_index(drop = True, inplace = True)\n",
        "\n",
        "val_data = val_data.groupby('type').sample(frac=0.05)\n",
        "val_data.reset_index(drop = True, inplace = True)"
      ],
      "metadata": {
        "id": "L9s0y2-DrDwY"
      },
      "execution_count": 5,
      "outputs": []
    },
    {
      "cell_type": "code",
      "source": [
        "train_data.shape[0]"
      ],
      "metadata": {
        "colab": {
          "base_uri": "https://localhost:8080/"
        },
        "id": "J28mUk4Qnkiy",
        "outputId": "c3aa8fe5-5158-40f5-d9b1-08e24d68a7d0"
      },
      "execution_count": 6,
      "outputs": [
        {
          "output_type": "execute_result",
          "data": {
            "text/plain": [
              "4705"
            ]
          },
          "metadata": {},
          "execution_count": 6
        }
      ]
    },
    {
      "cell_type": "markdown",
      "source": [
        "### Preprocessing"
      ],
      "metadata": {
        "id": "leu1uFzCmXWT"
      }
    },
    {
      "cell_type": "markdown",
      "source": [
        "#### Train, Validation, Test Split"
      ],
      "metadata": {
        "id": "YNJtuT2Ro1sH"
      }
    },
    {
      "cell_type": "code",
      "source": [
        "X_train, X_test, X_val = train_data['posts'], test_data['posts'], val_data['posts']\n",
        "y_train, y_test, y_val = train_data['i1e0'], test_data['i1e0'], val_data['i1e0']"
      ],
      "metadata": {
        "id": "aKU6YWQvo9M-"
      },
      "execution_count": 7,
      "outputs": []
    },
    {
      "cell_type": "code",
      "source": [
        "X_train.shape, X_test.shape"
      ],
      "metadata": {
        "colab": {
          "base_uri": "https://localhost:8080/"
        },
        "id": "x-YlRMh5sYkK",
        "outputId": "45ce7e41-e97c-4e54-9153-599b9742e640"
      },
      "execution_count": 8,
      "outputs": [
        {
          "output_type": "execute_result",
          "data": {
            "text/plain": [
              "((4705,), (1569,))"
            ]
          },
          "metadata": {},
          "execution_count": 8
        }
      ]
    },
    {
      "cell_type": "code",
      "source": [
        "# TF-IDF Vectorizer 생성\n",
        "\n",
        "from sklearn.feature_extraction.text import TfidfVectorizer\n",
        "\n",
        "def vectorize(data, tfidf_vec_fit):\n",
        "    X_tfidf = tfidf_vect_fit.transform(data)\n",
        "    words = tfidf_vect_fit.get_feature_names()\n",
        "    X_tfidf_df = pd.DataFrame(X_tfidf.toarray())\n",
        "    X_tfidf_df.columns = words\n",
        "    return(X_tfidf_df)"
      ],
      "metadata": {
        "id": "Mm8T-JuQsxzM"
      },
      "execution_count": 9,
      "outputs": []
    },
    {
      "cell_type": "code",
      "source": [
        "tmp_data = pd.concat([X_train, X_test, X_val])\n",
        " \n",
        "tfidf_vect = TfidfVectorizer(analyzer = 'word')\n",
        "tfidf_vect_fit = tfidf_vect.fit(tmp_data)\n",
        "\n",
        "X_train = vectorize(X_train,tfidf_vect_fit)\n",
        "X_test = vectorize(X_test,tfidf_vect_fit)\n",
        "X_val= vectorize(X_val,tfidf_vect_fit)"
      ],
      "metadata": {
        "colab": {
          "base_uri": "https://localhost:8080/"
        },
        "id": "JuRcGKBvtpqy",
        "outputId": "3d920b51-9479-4e3a-9542-7caf10e5a6ce"
      },
      "execution_count": 10,
      "outputs": [
        {
          "output_type": "stream",
          "name": "stderr",
          "text": [
            "/usr/local/lib/python3.7/dist-packages/sklearn/utils/deprecation.py:87: FutureWarning: Function get_feature_names is deprecated; get_feature_names is deprecated in 1.0 and will be removed in 1.2. Please use get_feature_names_out instead.\n",
            "  warnings.warn(msg, category=FutureWarning)\n"
          ]
        }
      ]
    },
    {
      "cell_type": "markdown",
      "source": [
        "### Modeling"
      ],
      "metadata": {
        "id": "bFQV_bqlj5kG"
      }
    },
    {
      "cell_type": "markdown",
      "source": [
        "#### Naive Bayes"
      ],
      "metadata": {
        "id": "ro_HQPo6unmO"
      }
    },
    {
      "cell_type": "code",
      "source": [
        "from sklearn.naive_bayes import GaussianNB\n",
        "from sklearn.metrics import accuracy_score, f1_score, classification_report"
      ],
      "metadata": {
        "id": "n6Ixr5QfunAg"
      },
      "execution_count": 18,
      "outputs": []
    },
    {
      "cell_type": "code",
      "source": [
        "nb_model = GaussianNB()"
      ],
      "metadata": {
        "id": "_NSQ3GIrkT7Z"
      },
      "execution_count": 19,
      "outputs": []
    },
    {
      "cell_type": "code",
      "source": [
        "nb_model.fit(X_train, y_train)"
      ],
      "metadata": {
        "colab": {
          "base_uri": "https://localhost:8080/"
        },
        "id": "439KWnXqkWro",
        "outputId": "bd0a1367-a53c-43ef-8f68-467d2c68aecb"
      },
      "execution_count": 20,
      "outputs": [
        {
          "output_type": "execute_result",
          "data": {
            "text/plain": [
              "GaussianNB()"
            ]
          },
          "metadata": {},
          "execution_count": 20
        }
      ]
    },
    {
      "cell_type": "code",
      "source": [
        "pred = nb_model.predict(X_test)"
      ],
      "metadata": {
        "id": "A-KSYKnlu_q3"
      },
      "execution_count": 21,
      "outputs": []
    },
    {
      "cell_type": "code",
      "source": [
        "f1 = f1_score(y_test, pred)\n",
        "print('f1 score :', f1)"
      ],
      "metadata": {
        "colab": {
          "base_uri": "https://localhost:8080/"
        },
        "id": "064-BwsmzDQo",
        "outputId": "c2d4db74-5301-46f3-f20f-2405878cee7f"
      },
      "execution_count": 22,
      "outputs": [
        {
          "output_type": "stream",
          "name": "stdout",
          "text": [
            "f1 score : 0.7121535181236675\n"
          ]
        }
      ]
    },
    {
      "cell_type": "code",
      "source": [
        "# Gaussian NB의 경우 별도의 하이퍼라미터가 존재하지 않음\n",
        "print(classification_report(y_test, pred))"
      ],
      "metadata": {
        "colab": {
          "base_uri": "https://localhost:8080/"
        },
        "id": "IBMHWogDvtgJ",
        "outputId": "2396b576-3abb-4da9-bf80-5f61bfe7caac"
      },
      "execution_count": 23,
      "outputs": [
        {
          "output_type": "stream",
          "name": "stdout",
          "text": [
            "              precision    recall  f1-score   support\n",
            "\n",
            "           0       0.68      0.87      0.77       762\n",
            "           1       0.83      0.62      0.71       807\n",
            "\n",
            "    accuracy                           0.74      1569\n",
            "   macro avg       0.76      0.75      0.74      1569\n",
            "weighted avg       0.76      0.74      0.74      1569\n",
            "\n"
          ]
        }
      ]
    }
  ]
}